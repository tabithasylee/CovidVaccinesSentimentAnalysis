{
  "cells": [
    {
      "cell_type": "code",
      "execution_count": null,
      "metadata": {
        "id": "__osES4yzOVU"
      },
      "outputs": [],
      "source": [
        "import pandas as pd\n",
        "import matplotlib.pyplot as plt\n",
        "import numpy as np"
      ]
    },
    {
      "cell_type": "code",
      "execution_count": null,
      "metadata": {
        "id": "KlFYTI_wzy6D"
      },
      "outputs": [],
      "source": [
        "# load sentiment dataset\n",
        "vaccine_data_sentiments = pd.read_csv('covidvaccinesentiments.csv', dtype='str', index_col=0)"
      ]
    },
    {
      "cell_type": "code",
      "execution_count": null,
      "metadata": {
        "id": "w6NT2q0nHHOz"
      },
      "outputs": [],
      "source": [
        "# remove NA values from dataset\n",
        "vaccine_data_sentiments = vaccine_data_sentiments.dropna(subset=['Polarity'])"
      ]
    },
    {
      "cell_type": "code",
      "execution_count": null,
      "metadata": {
        "colab": {
          "base_uri": "https://localhost:8080/"
        },
        "id": "-LSk_5ewHLRa",
        "outputId": "8b40b08e-9069-478a-a8e1-6b4e58496349"
      },
      "outputs": [
        {
          "data": {
            "text/plain": [
              "(1334205, 12)"
            ]
          },
          "execution_count": 9,
          "metadata": {},
          "output_type": "execute_result"
        }
      ],
      "source": [
        "vaccine_data_sentiments.shape"
      ]
    },
    {
      "cell_type": "code",
      "execution_count": null,
      "metadata": {
        "id": "rGYK1qRfCM00"
      },
      "outputs": [],
      "source": [
        "# split 80% training, 20% testing\n",
        "split = round(len(vaccine_data_sentiments)*0.8)"
      ]
    },
    {
      "cell_type": "code",
      "execution_count": null,
      "metadata": {
        "id": "BsSCpyM0CQEv"
      },
      "outputs": [],
      "source": [
        "# allocate training and testing data and labels\n",
        "train_text = vaccine_data_sentiments['full_text'][:split]\n",
        "train_label = vaccine_data_sentiments['Polarity'][:split]\n",
        "test_text = vaccine_data_sentiments['full_text'][split:]\n",
        "test_label = vaccine_data_sentiments['Polarity'][split:]"
      ]
    },
    {
      "cell_type": "code",
      "execution_count": null,
      "metadata": {
        "id": "37AXZSBYCnoO"
      },
      "outputs": [],
      "source": [
        "training_tweet = []\n",
        "training_label = []\n",
        "testing_tweet = []\n",
        "testing_label = []\n",
        "\n",
        "# convert training data to text\n",
        "for row in train_text:\n",
        "    training_tweet.append(str(row))\n",
        "# numerically categorize training labels\n",
        "for row in train_label:\n",
        "    label = ['negative', 'neutral', 'positive']\n",
        "    # add index as categorical label\n",
        "    training_label.append(label.index(row))\n",
        "# convert testing data to text\n",
        "for row in test_text:\n",
        "    testing_tweet.append(str(row))\n",
        "# numerically categorize testing labels\n",
        "for row in test_label:\n",
        "    label = ['negative', 'neutral', 'positive']\n",
        "    # add index as categorical label\n",
        "    testing_label.append(label.index(row))"
      ]
    },
    {
      "cell_type": "code",
      "execution_count": null,
      "metadata": {
        "colab": {
          "base_uri": "https://localhost:8080/"
        },
        "id": "hl-ZwakNAhoj",
        "outputId": "6b395a26-2a07-4bcb-8837-74a5796ffe8f"
      },
      "outputs": [
        {
          "name": "stdout",
          "output_type": "stream",
          "text": [
            "Looking in indexes: https://pypi.org/simple, https://us-python.pkg.dev/colab-wheels/public/simple/\n",
            "Requirement already satisfied: keras in /usr/local/lib/python3.8/dist-packages (2.9.0)\n"
          ]
        }
      ],
      "source": [
        "!pip install keras"
      ]
    },
    {
      "cell_type": "code",
      "execution_count": null,
      "metadata": {
        "id": "95WpyNhG_KHt"
      },
      "outputs": [],
      "source": [
        "from keras.preprocessing.text import Tokenizer\n",
        "from keras_preprocessing.sequence import pad_sequences\n",
        "from keras import regularizers\n",
        "\n",
        "max_words = 5000 # max words in tweet\n",
        "max_len = 300 # max length of tweet"
      ]
    },
    {
      "cell_type": "code",
      "execution_count": null,
      "metadata": {
        "id": "sC0RXa6O_Mt7"
      },
      "outputs": [],
      "source": [
        "# initialize tokenizer with max words in tweet\n",
        "tokenizer = Tokenizer(num_words=max_words)\n",
        "# tokenize training tweets\n",
        "tokenizer.fit_on_texts(training_tweet)\n",
        "# set indices of tokenized tweets\n",
        "tweet_index = tokenizer.word_index"
      ]
    },
    {
      "cell_type": "code",
      "execution_count": null,
      "metadata": {
        "id": "BvBDyQVxDzCL"
      },
      "outputs": [],
      "source": [
        "sequences = tokenizer.texts_to_sequences(training_tweet)\n",
        "padded = pad_sequences(sequences, maxlen=max_len)\n",
        "testing_sequences = tokenizer.texts_to_sequences(testing_tweet)\n",
        "testing_padded = pad_sequences(testing_sequences, maxlen=max_len)"
      ]
    },
    {
      "cell_type": "code",
      "execution_count": null,
      "metadata": {
        "id": "ROMnsrrk_eyT"
      },
      "outputs": [],
      "source": [
        "\n",
        "from keras import utils"
      ]
    },
    {
      "cell_type": "code",
      "execution_count": null,
      "metadata": {
        "id": "1LI6rZVN_gFV"
      },
      "outputs": [],
      "source": [
        "from keras.models import Sequential\n",
        "from keras import layers\n",
        "from keras import regularizers\n",
        "from keras import backend as K\n",
        "from keras.callbacks import ModelCheckpoint\n",
        "\n",
        "embedding_dim = 20 # dimensions for embedding layer\n",
        "\n",
        "model = Sequential()\n",
        "# model1.add(layers.Embedding(max_words, 20))\n",
        "model.add(layers.Embedding(max_words, embedding_dim))\n",
        "# model1.add(layers.GlobalAveragePooling1D())\n",
        "# model1.add(keras.layers.Dense(6, activation='relu'))\n",
        "\n",
        "model.add(layers.LSTM(5,dropout=0.5)) # LSTM layer\n",
        "model.add(layers.Dense(3,activation='softmax')) # softmax layer for multiclass classification"
      ]
    },
    {
      "cell_type": "code",
      "execution_count": null,
      "metadata": {
        "id": "blnRI7WwFImy"
      },
      "outputs": [],
      "source": [
        "# compile model for multlclass classification\n",
        "model.compile(optimizer='rmsprop',loss='categorical_crossentropy', metrics=['accuracy'])\n",
        "# save model checkpoints in hdf5 file\n",
        "checkpoint = ModelCheckpoint(\"sentiments_model.hdf5\", monitor='val_accuracy', verbose=1,save_best_only=True, mode='auto',save_weights_only=False)"
      ]
    },
    {
      "cell_type": "code",
      "execution_count": null,
      "metadata": {
        "id": "PlloiZcbFOfS"
      },
      "outputs": [],
      "source": [
        "# convert training and testing labels into numpy arrays\n",
        "training_labels_final = np.array(training_label)\n",
        "testing_labels_final = np.array(testing_label)"
      ]
    },
    {
      "cell_type": "code",
      "execution_count": null,
      "metadata": {
        "id": "CJ5IGclmGNgF"
      },
      "outputs": [],
      "source": [
        "# convert training and testing label numpy arrays to categorical data\n",
        "training_labels_encoded = utils.to_categorical(training_labels_final, 3)\n",
        "testing_labels_encoded = utils.to_categorical(testing_labels_final, 3)"
      ]
    },
    {
      "cell_type": "code",
      "execution_count": null,
      "metadata": {
        "colab": {
          "base_uri": "https://localhost:8080/"
        },
        "id": "mO71DV_kJ_BC",
        "outputId": "baab9362-11f7-4fe4-92cb-13a8f42c7512"
      },
      "outputs": [
        {
          "name": "stdout",
          "output_type": "stream",
          "text": [
            "Model: \"sequential_2\"\n",
            "_________________________________________________________________\n",
            " Layer (type)                Output Shape              Param #   \n",
            "=================================================================\n",
            " embedding_2 (Embedding)     (None, None, 20)          100000    \n",
            "                                                                 \n",
            " lstm_2 (LSTM)               (None, 5)                 520       \n",
            "                                                                 \n",
            " dense_2 (Dense)             (None, 3)                 18        \n",
            "                                                                 \n",
            "=================================================================\n",
            "Total params: 100,538\n",
            "Trainable params: 100,538\n",
            "Non-trainable params: 0\n",
            "_________________________________________________________________\n"
          ]
        }
      ],
      "source": [
        "model.summary()"
      ]
    },
    {
      "cell_type": "code",
      "execution_count": null,
      "metadata": {
        "colab": {
          "base_uri": "https://localhost:8080/"
        },
        "id": "qFf6iPPbFXph",
        "outputId": "382bcfca-3432-4fe8-a02a-9d632cde8e65"
      },
      "outputs": [
        {
          "name": "stdout",
          "output_type": "stream",
          "text": [
            "Epoch 1/20\n",
            "534/534 [==============================] - ETA: 0s - loss: 0.4560 - accuracy: 0.8493\n",
            "Epoch 1: val_accuracy improved from -inf to 0.85749, saving model to sentiments_model.hdf5\n",
            "534/534 [==============================] - 339s 635ms/step - loss: 0.4560 - accuracy: 0.8493 - val_loss: 0.4484 - val_accuracy: 0.8575\n",
            "Epoch 2/20\n",
            "534/534 [==============================] - ETA: 0s - loss: 0.4313 - accuracy: 0.8578\n",
            "Epoch 2: val_accuracy improved from 0.85749 to 0.86066, saving model to sentiments_model.hdf5\n",
            "534/534 [==============================] - 343s 643ms/step - loss: 0.4313 - accuracy: 0.8578 - val_loss: 0.4398 - val_accuracy: 0.8607\n",
            "Epoch 3/20\n",
            "534/534 [==============================] - ETA: 0s - loss: 0.4210 - accuracy: 0.8604\n",
            "Epoch 3: val_accuracy improved from 0.86066 to 0.86237, saving model to sentiments_model.hdf5\n",
            "534/534 [==============================] - 340s 637ms/step - loss: 0.4210 - accuracy: 0.8604 - val_loss: 0.4361 - val_accuracy: 0.8624\n",
            "Epoch 4/20\n",
            "534/534 [==============================] - ETA: 0s - loss: 0.4143 - accuracy: 0.8621\n",
            "Epoch 4: val_accuracy did not improve from 0.86237\n",
            "534/534 [==============================] - 342s 641ms/step - loss: 0.4143 - accuracy: 0.8621 - val_loss: 0.4325 - val_accuracy: 0.8621\n",
            "Epoch 5/20\n",
            "534/534 [==============================] - ETA: 0s - loss: 0.4109 - accuracy: 0.8631\n",
            "Epoch 5: val_accuracy improved from 0.86237 to 0.86260, saving model to sentiments_model.hdf5\n",
            "534/534 [==============================] - 342s 640ms/step - loss: 0.4109 - accuracy: 0.8631 - val_loss: 0.4346 - val_accuracy: 0.8626\n",
            "Epoch 6/20\n",
            "534/534 [==============================] - ETA: 0s - loss: 0.4080 - accuracy: 0.8640\n",
            "Epoch 6: val_accuracy did not improve from 0.86260\n",
            "534/534 [==============================] - 337s 631ms/step - loss: 0.4080 - accuracy: 0.8640 - val_loss: 0.4317 - val_accuracy: 0.8621\n",
            "Epoch 7/20\n",
            "534/534 [==============================] - ETA: 0s - loss: 0.4062 - accuracy: 0.8650\n",
            "Epoch 7: val_accuracy did not improve from 0.86260\n",
            "534/534 [==============================] - 340s 637ms/step - loss: 0.4062 - accuracy: 0.8650 - val_loss: 0.4292 - val_accuracy: 0.8621\n",
            "Epoch 8/20\n",
            "534/534 [==============================] - ETA: 0s - loss: 0.4040 - accuracy: 0.8657\n",
            "Epoch 8: val_accuracy improved from 0.86260 to 0.86363, saving model to sentiments_model.hdf5\n",
            "534/534 [==============================] - 348s 651ms/step - loss: 0.4040 - accuracy: 0.8657 - val_loss: 0.4268 - val_accuracy: 0.8636\n",
            "Epoch 9/20\n",
            "534/534 [==============================] - ETA: 0s - loss: 0.4025 - accuracy: 0.8665\n",
            "Epoch 9: val_accuracy improved from 0.86363 to 0.86372, saving model to sentiments_model.hdf5\n",
            "534/534 [==============================] - 348s 651ms/step - loss: 0.4025 - accuracy: 0.8665 - val_loss: 0.4269 - val_accuracy: 0.8637\n",
            "Epoch 10/20\n",
            "534/534 [==============================] - ETA: 0s - loss: 0.4012 - accuracy: 0.8671\n",
            "Epoch 10: val_accuracy did not improve from 0.86372\n",
            "534/534 [==============================] - 332s 622ms/step - loss: 0.4012 - accuracy: 0.8671 - val_loss: 0.4281 - val_accuracy: 0.8634\n",
            "Epoch 11/20\n",
            "534/534 [==============================] - ETA: 0s - loss: 0.4004 - accuracy: 0.8679\n",
            "Epoch 11: val_accuracy improved from 0.86372 to 0.86463, saving model to sentiments_model.hdf5\n",
            "534/534 [==============================] - 334s 626ms/step - loss: 0.4004 - accuracy: 0.8679 - val_loss: 0.4264 - val_accuracy: 0.8646\n",
            "Epoch 12/20\n",
            "534/534 [==============================] - ETA: 0s - loss: 0.3986 - accuracy: 0.8686\n",
            "Epoch 12: val_accuracy did not improve from 0.86463\n",
            "534/534 [==============================] - 338s 633ms/step - loss: 0.3986 - accuracy: 0.8686 - val_loss: 0.4234 - val_accuracy: 0.8644\n",
            "Epoch 13/20\n",
            "534/534 [==============================] - ETA: 0s - loss: 0.3971 - accuracy: 0.8696\n",
            "Epoch 13: val_accuracy improved from 0.86463 to 0.86490, saving model to sentiments_model.hdf5\n",
            "534/534 [==============================] - 337s 632ms/step - loss: 0.3971 - accuracy: 0.8696 - val_loss: 0.4262 - val_accuracy: 0.8649\n",
            "Epoch 14/20\n",
            "534/534 [==============================] - ETA: 0s - loss: 0.3962 - accuracy: 0.8703\n",
            "Epoch 14: val_accuracy improved from 0.86490 to 0.86590, saving model to sentiments_model.hdf5\n",
            "534/534 [==============================] - 340s 637ms/step - loss: 0.3962 - accuracy: 0.8703 - val_loss: 0.4222 - val_accuracy: 0.8659\n",
            "Epoch 15/20\n",
            "534/534 [==============================] - ETA: 0s - loss: 0.3948 - accuracy: 0.8708\n",
            "Epoch 15: val_accuracy improved from 0.86590 to 0.86667, saving model to sentiments_model.hdf5\n",
            "534/534 [==============================] - 333s 623ms/step - loss: 0.3948 - accuracy: 0.8708 - val_loss: 0.4190 - val_accuracy: 0.8667\n",
            "Epoch 16/20\n",
            "534/534 [==============================] - ETA: 0s - loss: 0.3938 - accuracy: 0.8716\n",
            "Epoch 16: val_accuracy improved from 0.86667 to 0.86712, saving model to sentiments_model.hdf5\n",
            "534/534 [==============================] - 333s 623ms/step - loss: 0.3938 - accuracy: 0.8716 - val_loss: 0.4222 - val_accuracy: 0.8671\n",
            "Epoch 17/20\n",
            "534/534 [==============================] - ETA: 0s - loss: 0.3930 - accuracy: 0.8720\n",
            "Epoch 17: val_accuracy improved from 0.86712 to 0.86747, saving model to sentiments_model.hdf5\n",
            "534/534 [==============================] - 355s 665ms/step - loss: 0.3930 - accuracy: 0.8720 - val_loss: 0.4211 - val_accuracy: 0.8675\n",
            "Epoch 18/20\n",
            "534/534 [==============================] - ETA: 0s - loss: 0.3914 - accuracy: 0.8726\n",
            "Epoch 18: val_accuracy improved from 0.86747 to 0.86843, saving model to sentiments_model.hdf5\n",
            "534/534 [==============================] - 365s 683ms/step - loss: 0.3914 - accuracy: 0.8726 - val_loss: 0.4188 - val_accuracy: 0.8684\n",
            "Epoch 19/20\n",
            "534/534 [==============================] - ETA: 0s - loss: 0.3904 - accuracy: 0.8734\n",
            "Epoch 19: val_accuracy improved from 0.86843 to 0.86945, saving model to sentiments_model.hdf5\n",
            "534/534 [==============================] - 366s 685ms/step - loss: 0.3904 - accuracy: 0.8734 - val_loss: 0.4188 - val_accuracy: 0.8695\n",
            "Epoch 20/20\n",
            "534/534 [==============================] - ETA: 0s - loss: 0.3893 - accuracy: 0.8741\n",
            "Epoch 20: val_accuracy improved from 0.86945 to 0.87006, saving model to sentiments_model.hdf5\n",
            "534/534 [==============================] - 368s 689ms/step - loss: 0.3893 - accuracy: 0.8741 - val_loss: 0.4185 - val_accuracy: 0.8701\n"
          ]
        }
      ],
      "source": [
        "num_epochs = 20\n",
        "# train model\n",
        "history = model.fit(padded, training_labels_encoded, epochs=num_epochs, batch_size=2000, validation_data=(testing_padded, testing_labels_encoded), callbacks=[checkpoint])"
      ]
    },
    {
      "cell_type": "code",
      "execution_count": null,
      "metadata": {
        "id": "JuIXjmTuE68m"
      },
      "outputs": [],
      "source": [
        "import keras"
      ]
    },
    {
      "cell_type": "code",
      "execution_count": null,
      "metadata": {
        "id": "2AiSYHDD6pEm"
      },
      "outputs": [],
      "source": [
        "!cp sentiments_model.hdf5 /content/drive/MyDrive/AIProject"
      ]
    },
    {
      "cell_type": "code",
      "execution_count": null,
      "metadata": {
        "id": "-34OGZuxFh-k"
      },
      "outputs": [],
      "source": [
        "model = keras.models.load_model('/content/drive/MyDrive/AIProject/sentiments_model.hdf5')"
      ]
    },
    {
      "cell_type": "code",
      "execution_count": null,
      "metadata": {
        "colab": {
          "base_uri": "https://localhost:8080/"
        },
        "id": "OD6K-4LMFbnp",
        "outputId": "971b9f65-25b4-4688-c656-f4d1baa63dc8"
      },
      "outputs": [
        {
          "name": "stdout",
          "output_type": "stream",
          "text": [
            "Evaluate on test data\n",
            "8339/8339 [==============================] - 177s 21ms/step - loss: 0.4185 - accuracy: 0.8701\n",
            "test loss, test acc: [0.41847899556159973, 0.8700574636459351]\n"
          ]
        }
      ],
      "source": [
        "# Evaluate the model on the test data using `evaluate`\n",
        "print(\"Evaluate on test data\")\n",
        "results = model.evaluate(testing_padded, testing_labels_encoded)\n",
        "print(\"test loss, test acc:\", results)"
      ]
    },
    {
      "cell_type": "code",
      "execution_count": null,
      "metadata": {
        "colab": {
          "base_uri": "https://localhost:8080/"
        },
        "id": "cfbUsdkYI0Zx",
        "outputId": "401868e5-41df-43c3-daf4-70ddedff4060"
      },
      "outputs": [
        {
          "name": "stdout",
          "output_type": "stream",
          "text": [
            "8339/8339 [==============================] - 160s 19ms/step\n"
          ]
        }
      ],
      "source": [
        "predictions = model.predict(testing_padded)"
      ]
    },
    {
      "cell_type": "code",
      "execution_count": null,
      "metadata": {
        "id": "GJDt9cPAIzsI"
      },
      "outputs": [],
      "source": [
        "y_classes = [np.argmax(y, axis=None, out=None) for y in predictions]"
      ]
    },
    {
      "cell_type": "code",
      "execution_count": null,
      "metadata": {
        "colab": {
          "base_uri": "https://localhost:8080/"
        },
        "id": "9sDRarItLGqI",
        "outputId": "795ee96c-7f4c-46ec-d4f4-7954259fc641"
      },
      "outputs": [
        {
          "name": "stdout",
          "output_type": "stream",
          "text": [
            "              precision    recall  f1-score   support\n",
            "\n",
            "    negative     0.8492    0.8847    0.8666    100368\n",
            "     neutral     0.9085    0.8492    0.8778     76451\n",
            "    positive     0.8638    0.8715    0.8676     90022\n",
            "\n",
            "    accuracy                         0.8701    266841\n",
            "   macro avg     0.8738    0.8685    0.8707    266841\n",
            "weighted avg     0.8711    0.8701    0.8702    266841\n",
            "\n"
          ]
        }
      ],
      "source": [
        "from sklearn.metrics import classification_report\n",
        "\n",
        "print(classification_report(y_classes, testing_labels_final, target_names=['negative', 'neutral', 'positive'], digits=4))"
      ]
    },
    {
      "cell_type": "code",
      "execution_count": null,
      "metadata": {
        "id": "gH11DJpxFjtp"
      },
      "outputs": [],
      "source": [
        "%matplotlib inline\n",
        "\n",
        "accuracy = history.history['accuracy'] # training accuracy\n",
        "val_accuracy = history.history['val_accuracy'] # validation accuracy\n",
        "loss = history.history['loss'] # training loss\n",
        "val_loss = history.history['val_loss'] # validation loss\n",
        "epochs=range(len(accuracy))"
      ]
    },
    {
      "cell_type": "code",
      "execution_count": null,
      "metadata": {
        "colab": {
          "base_uri": "https://localhost:8080/",
          "height": 330
        },
        "id": "Io53W0C4zMhm",
        "outputId": "2b45d655-0a8a-4e3f-9048-3b1c845e44e2"
      },
      "outputs": [
        {
          "data": {
            "text/plain": [
              "<Figure size 7200x7200 with 0 Axes>"
            ]
          },
          "execution_count": 81,
          "metadata": {},
          "output_type": "execute_result"
        },
        {
          "data": {
            "image/png": "[encoded data removed]",
            "text/plain": [
              "<Figure size 432x288 with 1 Axes>"
            ]
          },
          "metadata": {
            "needs_background": "light"
          },
          "output_type": "display_data"
        },
        {
          "data": {
            "text/plain": [
              "<Figure size 7200x7200 with 0 Axes>"
            ]
          },
          "metadata": {},
          "output_type": "display_data"
        }
      ],
      "source": [
        "# Plotting Accuracy\n",
        "plt.plot(epochs, accuracy, 'r', label='Training')\n",
        "plt.plot(epochs, val_accuracy, 'b', label='Validation')\n",
        "plt.legend()\n",
        "plt.xlabel('Number of Epochs')\n",
        "plt.ylabel('Accuracy')\n",
        "plt.title('Training and Validation Accuracy')\n",
        "plt.savefig('nn_accuracy.png', dpi=300, bbox_inches='tight')\n",
        "plt.figure(figsize=(100,100))"
      ]
    },
    {
      "cell_type": "code",
      "execution_count": null,
      "metadata": {
        "colab": {
          "base_uri": "https://localhost:8080/",
          "height": 330
        },
        "id": "gNK5Swc54lwm",
        "outputId": "298a47ea-2bf2-4427-9372-94410f98d1d8"
      },
      "outputs": [
        {
          "data": {
            "text/plain": [
              "<Figure size 7200x7200 with 0 Axes>"
            ]
          },
          "execution_count": 82,
          "metadata": {},
          "output_type": "execute_result"
        },
        {
          "data": {
            "image/png": "[encoded data removed]",
            "text/plain": [
              "<Figure size 432x288 with 1 Axes>"
            ]
          },
          "metadata": {
            "needs_background": "light"
          },
          "output_type": "display_data"
        },
        {
          "data": {
            "text/plain": [
              "<Figure size 7200x7200 with 0 Axes>"
            ]
          },
          "metadata": {},
          "output_type": "display_data"
        }
      ],
      "source": [
        "# Plotting Accuracy\n",
        "plt.plot(epochs, accuracy, 'r', label='Training')\n",
        "plt.plot(epochs, val_accuracy, 'b', label='Validation')\n",
        "plt.legend()\n",
        "plt.ylim([0,1])\n",
        "plt.xlabel('Number of Epochs')\n",
        "plt.ylabel('Accuracy')\n",
        "plt.title('Training and Validation Accuracy')\n",
        "plt.savefig('nn_accuracy_axes.png', dpi=300, bbox_inches='tight')\n",
        "plt.figure(figsize=(100,100))"
      ]
    },
    {
      "cell_type": "code",
      "execution_count": null,
      "metadata": {
        "colab": {
          "base_uri": "https://localhost:8080/",
          "height": 330
        },
        "id": "MOOoFkRSzJca",
        "outputId": "6b3b2fb3-74c9-4b64-b57e-522fd02e668d"
      },
      "outputs": [
        {
          "data": {
            "text/plain": [
              "<Figure size 720x720 with 0 Axes>"
            ]
          },
          "execution_count": 83,
          "metadata": {},
          "output_type": "execute_result"
        },
        {
          "data": {
            "image/png": "[encoded data removed]",
            "text/plain": [
              "<Figure size 432x288 with 1 Axes>"
            ]
          },
          "metadata": {
            "needs_background": "light"
          },
          "output_type": "display_data"
        },
        {
          "data": {
            "text/plain": [
              "<Figure size 720x720 with 0 Axes>"
            ]
          },
          "metadata": {},
          "output_type": "display_data"
        }
      ],
      "source": [
        "# Plotting Loss\n",
        "plt.plot(epochs, loss, 'r', label='Training')\n",
        "plt.plot(epochs, val_loss, 'b', label='Validation')\n",
        "plt.legend()\n",
        "plt.xlabel('Number of Epochs')\n",
        "plt.ylabel('Loss')\n",
        "plt.title('Training and Validation Loss')\n",
        "plt.savefig('nn_loss.png', dpi=300, bbox_inches='tight')\n",
        "plt.figure(figsize=(10,10))"
      ]
    },
    {
      "cell_type": "code",
      "execution_count": null,
      "metadata": {
        "colab": {
          "base_uri": "https://localhost:8080/",
          "height": 330
        },
        "id": "C6EfH4W94r-x",
        "outputId": "cfff2159-7a00-40e8-841e-a92f3c894677"
      },
      "outputs": [
        {
          "data": {
            "text/plain": [
              "<Figure size 720x720 with 0 Axes>"
            ]
          },
          "execution_count": 84,
          "metadata": {},
          "output_type": "execute_result"
        },
        {
          "data": {
            "image/png": "[encoded data removed]",
            "text/plain": [
              "<Figure size 432x288 with 1 Axes>"
            ]
          },
          "metadata": {
            "needs_background": "light"
          },
          "output_type": "display_data"
        },
        {
          "data": {
            "text/plain": [
              "<Figure size 720x720 with 0 Axes>"
            ]
          },
          "metadata": {},
          "output_type": "display_data"
        }
      ],
      "source": [
        "# Plotting Loss\n",
        "plt.plot(epochs, loss, 'r', label='Training')\n",
        "plt.plot(epochs, val_loss, 'b', label='Validation')\n",
        "plt.legend()\n",
        "plt.ylim([0,1])\n",
        "plt.xlabel('Number of Epochs')\n",
        "plt.ylabel('Loss')\n",
        "plt.title('Training and Validation Loss')\n",
        "plt.savefig('nn_loss_axes.png', dpi=300, bbox_inches='tight')\n",
        "plt.figure(figsize=(10,10))"
      ]
    },
    {
      "cell_type": "code",
      "execution_count": null,
      "metadata": {
        "colab": {
          "base_uri": "https://localhost:8080/",
          "height": 330
        },
        "id": "NzOQzHSh4zuS",
        "outputId": "410d80c6-0669-4102-9a3a-5f89e7950cea"
      },
      "outputs": [
        {
          "data": {
            "text/plain": [
              "<Figure size 720x720 with 0 Axes>"
            ]
          },
          "execution_count": 85,
          "metadata": {},
          "output_type": "execute_result"
        },
        {
          "data": {
            "image/png": "[encoded data removed]",
            "text/plain": [
              "<Figure size 432x288 with 1 Axes>"
            ]
          },
          "metadata": {
            "needs_background": "light"
          },
          "output_type": "display_data"
        },
        {
          "data": {
            "text/plain": [
              "<Figure size 720x720 with 0 Axes>"
            ]
          },
          "metadata": {},
          "output_type": "display_data"
        }
      ],
      "source": [
        "# Plotting Accuracy and Loss\n",
        "plt.plot(epochs, accuracy, 'r', label='Training Accuracy')\n",
        "plt.plot(epochs, val_accuracy, 'b', label='Validation Accuracy')\n",
        "plt.plot(epochs, loss, 'g', label='Training Loss')\n",
        "plt.plot(epochs, val_loss, 'm', label='Validation Loss')\n",
        "plt.legend()\n",
        "plt.ylim([0,1])\n",
        "plt.xlabel('Number of Epochs')\n",
        "plt.ylabel('Decimal')\n",
        "plt.title('Training and Validation Accuracy and Loss')\n",
        "plt.savefig('nn_accuracy_loss.png', dpi=300, bbox_inches='tight')\n",
        "plt.figure(figsize=(10,10))"
      ]
    }
  ],
  "metadata": {
    "colab": {
      "provenance": []
    },
    "kernelspec": {
      "display_name": "Python 3",
      "language": "python",
      "name": "python3"
    },
    "language_info": {
      "name": "python",
      "version": "3.10.0 (tags/v3.10.0:b494f59, Oct  4 2021, 19:00:18) [MSC v.1929 64 bit (AMD64)]"
    },
    "vscode": {
      "interpreter": {
        "hash": "87771bd0dc1c42408f89c8a7a0aa073c6240ad452d023254d045718e3ee0c408"
      }
    }
  },
  "nbformat": 4,
  "nbformat_minor": 0
}
